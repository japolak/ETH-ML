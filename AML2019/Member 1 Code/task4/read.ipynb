{
 "cells": [
  {
   "cell_type": "code",
   "execution_count": 9,
   "metadata": {},
   "outputs": [],
   "source": [
    "import numpy\n",
    "import pandas as pd\n",
    "import numpy as np\n",
    "import matplotlib.pyplot as plt\n",
    "\n",
    "\n",
    "seed = 7\n",
    "numpy.random.seed(seed)"
   ]
  },
  {
   "cell_type": "code",
   "execution_count": 3,
   "metadata": {},
   "outputs": [
    {
     "name": "stdout",
     "output_type": "stream",
     "text": [
      "Requirement already satisfied: keras in /anaconda3/lib/python3.6/site-packages (2.2.4)\r\n",
      "Requirement already satisfied: numpy>=1.9.1 in /anaconda3/lib/python3.6/site-packages (from keras) (1.15.4)\r\n",
      "Requirement already satisfied: scipy>=0.14 in /anaconda3/lib/python3.6/site-packages (from keras) (1.1.0)\r\n",
      "Requirement already satisfied: six>=1.9.0 in /anaconda3/lib/python3.6/site-packages (from keras) (1.11.0)\r\n",
      "Requirement already satisfied: pyyaml in /anaconda3/lib/python3.6/site-packages (from keras) (3.13)\r\n",
      "Requirement already satisfied: h5py in /anaconda3/lib/python3.6/site-packages (from keras) (2.8.0)\r\n",
      "Requirement already satisfied: keras_applications>=1.0.6 in /anaconda3/lib/python3.6/site-packages (from keras) (1.0.6)\r\n",
      "Requirement already satisfied: keras_preprocessing>=1.0.5 in /anaconda3/lib/python3.6/site-packages (from keras) (1.0.5)\r\n"
     ]
    }
   ],
   "source": [
    "!pip install keras"
   ]
  },
  {
   "cell_type": "code",
   "execution_count": 47,
   "metadata": {},
   "outputs": [
    {
     "name": "stdout",
     "output_type": "stream",
     "text": [
      "loading data...\n"
     ]
    }
   ],
   "source": [
    "print('loading data...')\n",
    "y_train = pd.read_csv('./data/train_labels.csv',header=0,index_col = None)\n",
    "x_train_eeg1 = pd.read_csv('./data/train_eeg1.csv', header=0, index_col = 0)\n",
    "x_train_eeg2 = pd.read_csv('./data/train_eeg2.csv', header=0, index_col = 0)\n",
    "x_train_emg = pd.read_csv('./data/train_emg.csv', header=0, index_col = 0)\n",
    "x_test_eeg1 = pd.read_csv('./data/test_eeg1.csv', header=0, index_col = 0)\n",
    "x_test_eeg2 = pd.read_csv('./data/test_eeg2.csv', header=0, index_col = 0)\n",
    "x_test_emg = pd.read_csv('./data/test_emg.csv', header=0, index_col = 0)\n"
   ]
  },
  {
   "cell_type": "code",
   "execution_count": 5,
   "metadata": {},
   "outputs": [
    {
     "name": "stdout",
     "output_type": "stream",
     "text": [
      "Exploring the data...\n",
      "y size: y\n",
      "1    34114\n",
      "2    27133\n",
      "3     3553\n",
      "dtype: int64 \n",
      " y1 size:  y\n",
      "1    11240\n",
      "2     8652\n",
      "3     1707\n",
      "dtype: int64 \n",
      " y2 size:  y\n",
      "1    11848\n",
      "2     8647\n",
      "3     1104\n",
      "dtype: int64 \n",
      " y3 size:  y\n",
      "1    11024\n",
      "2     9833\n",
      "3      742\n",
      "dtype: int64\n"
     ]
    }
   ],
   "source": [
    "print(\"Exploring the data...\")\n",
    "y_size = y_train.groupby('y').size()\n",
    "y1_size = y_train.iloc[0:21599,].groupby('y').size()\n",
    "y2_size = y_train.iloc[21600:43199,].groupby('y').size()\n",
    "y3_size = y_train.iloc[43200:64799,].groupby('y').size()\n",
    "print(\"y size:\",y_size,\n",
    "      \"\\n y1 size: \",y1_size,\n",
    "     \"\\n y2 size: \",y2_size,\n",
    "     \"\\n y3 size: \",y3_size)"
   ]
  },
  {
   "cell_type": "code",
   "execution_count": 48,
   "metadata": {},
   "outputs": [],
   "source": [
    "x1_train_eeg1=x_train_eeg1.iloc[0:21600,]\n",
    "x2_train_eeg1=x_train_eeg1.iloc[21600:43200,]\n",
    "x3_train_eeg1=x_train_eeg1.iloc[43200:64800,]\n",
    "x1_test_eeg1=x_test_eeg1.iloc[0:21600,]\n",
    "x2_test_eeg1=x_test_eeg1.iloc[21600:43200,]\n",
    "\n",
    "x1_train_eeg2=x_train_eeg2.iloc[0:21600,]\n",
    "x2_train_eeg2=x_train_eeg2.iloc[21600:43200,]\n",
    "x3_train_eeg2=x_train_eeg2.iloc[43200:64800,]\n",
    "x1_test_eeg2=x_test_eeg2.iloc[0:21600,]\n",
    "x2_test_eeg2=x_test_eeg2.iloc[21600:43200,]\n",
    "\n",
    "x1_train_emg=x_train_emg.iloc[0:21600,]\n",
    "x2_train_emg=x_train_emg.iloc[21600:43200,]\n",
    "x3_train_emg=x_train_emg.iloc[43200:64800,]\n",
    "x1_test_emg=x_test_emg.iloc[0:21600,]\n",
    "x2_test_emg=x_test_emg.iloc[21600:43200,]\n"
   ]
  },
  {
   "cell_type": "code",
   "execution_count": 51,
   "metadata": {},
   "outputs": [],
   "source": [
    "x_1=np.zeros((3,21600,512))\n",
    "x_1[0]=x1_train_eeg1.values\n",
    "x_1[1]=x1_train_eeg2.values\n",
    "x_1[2]=x1_train_emg.values\n",
    "\n",
    "x_2=np.zeros((3,21600,512))\n",
    "x_2[0]=x2_train_eeg1.values\n",
    "x_2[1]=x2_train_eeg2.values\n",
    "x_2[2]=x2_train_emg.values\n",
    "\n",
    "x_3=np.zeros((3,21600,512))\n",
    "x_3[0]=x3_train_eeg1.values\n",
    "x_3[1]=x3_train_eeg2.values\n",
    "x_3[2]=x3_train_emg.values\n",
    "\n",
    "x_1_test=np.zeros((3,21600,512))\n",
    "x_1_test[0]=x1_test_eeg1.values\n",
    "x_1_test[1]=x1_test_eeg2.values\n",
    "x_1_test[2]=x1_test_emg.values\n",
    "\n",
    "x_2_test=np.zeros((3,21600,512))\n",
    "x_2_test[0]=x2_test_eeg1.values\n",
    "x_2_test[1]=x2_test_eeg2.values\n",
    "x_2_test[2]=x2_test_emg.values\n"
   ]
  },
  {
   "cell_type": "code",
   "execution_count": 49,
   "metadata": {},
   "outputs": [],
   "source": [
    "x_1_new=np.zeros((3,512*21600))\n",
    "x_1_new[0]=x1_train_eeg1.values.reshape(1,512*21600)\n",
    "x_1_new[1]=x1_train_eeg2.values.reshape(1,512*21600)\n",
    "x_1_new[2]=x1_train_emg.values.reshape(1,512*21600)\n",
    "\n",
    "x_2_new=np.zeros((3,512*21600))\n",
    "x_2_new[0]=x2_train_eeg1.values.reshape(1,512*21600)\n",
    "x_2_new[1]=x2_train_eeg2.values.reshape(1,512*21600)\n",
    "x_2_new[2]=x2_train_emg.values.reshape(1,512*21600)\n",
    "\n",
    "x_3_new=np.zeros((3,512*21600))\n",
    "x_3_new[0]=x3_train_eeg1.values.reshape(1,512*21600)\n",
    "x_3_new[1]=x3_train_eeg2.values.reshape(1,512*21600)\n",
    "x_3_new[2]=x3_train_emg.values.reshape(1,512*21600)\n",
    "\n",
    "x_1_new_test=np.zeros((3,512*21600))\n",
    "x_1_new_test[0]=x1_test_eeg1.values.reshape(1,512*21600)\n",
    "x_1_new_test[1]=x1_test_eeg2.values.reshape(1,512*21600)\n",
    "x_1_new_test[2]=x1_test_emg.values.reshape(1,512*21600)\n",
    "\n",
    "x_2_new_test=np.zeros((3,512*21600))\n",
    "x_2_new_test[0]=x2_test_eeg1.values.reshape(1,512*21600)\n",
    "x_2_new_test[1]=x2_test_eeg2.values.reshape(1,512*21600)\n",
    "x_2_new_test[2]=x2_test_emg.values.reshape(1,512*21600)"
   ]
  },
  {
   "cell_type": "code",
   "execution_count": null,
   "metadata": {},
   "outputs": [],
   "source": []
  }
 ],
 "metadata": {
  "kernelspec": {
   "display_name": "Python 3",
   "language": "python",
   "name": "python3"
  },
  "language_info": {
   "codemirror_mode": {
    "name": "ipython",
    "version": 3
   },
   "file_extension": ".py",
   "mimetype": "text/x-python",
   "name": "python",
   "nbconvert_exporter": "python",
   "pygments_lexer": "ipython3",
   "version": "3.6.6"
  }
 },
 "nbformat": 4,
 "nbformat_minor": 2
}
