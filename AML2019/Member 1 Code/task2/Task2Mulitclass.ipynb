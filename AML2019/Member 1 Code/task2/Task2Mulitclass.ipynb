{
 "cells": [
  {
   "cell_type": "markdown",
   "metadata": {},
   "source": [
    "[Classification problem](https://www.jianshu.com/p/169dc01f0589)\n",
    "\n",
    "[code reference](https://blog.csdn.net/qq_29462849/article/details/80640285)\n",
    "\n",
    "[sampling reference](http://www.dataivy.cn/blog/3-4-解决样本类别分布不均衡的问题/)\n",
    "\n",
    "The whole idea:\n",
    "1. consturct three different datasets: original, over-sampling and under-sampling.\n",
    "2. Try a series of different models: KNN/ SVC/ DecisionTree/ RandomForest/ Adaboost/ GradientBoosting/ GaussianNB/ LinearDiscrimination/ QuadraticDiscriminant\n",
    "3. Find the best model and best dataset.\n",
    "4. Improve the model by tuunning and c-v and others."
   ]
  },
  {
   "cell_type": "code",
   "execution_count": 35,
   "metadata": {},
   "outputs": [
    {
     "name": "stdout",
     "output_type": "stream",
     "text": [
      "Loading the training data...\n"
     ]
    }
   ],
   "source": [
    "import pandas as pd\n",
    "\n",
    "print(\"Loading the training data...\")\n",
    "x_v0_train = pd.read_csv(\"X_train.csv\", header =0,index_col=0)\n",
    "x_test = pd.read_csv(\"X_test.csv\",header = 0 ,index_col=0)\n",
    "y_train = pd.read_csv(\"y_train.csv\",header = 0,index_col=0,names=['id','label'])"
   ]
  },
  {
   "cell_type": "code",
   "execution_count": 36,
   "metadata": {},
   "outputs": [
    {
     "data": {
      "text/plain": [
       "label\n",
       "0.0     600\n",
       "1.0    3600\n",
       "2.0     600\n",
       "dtype: int64"
      ]
     },
     "execution_count": 36,
     "metadata": {},
     "output_type": "execute_result"
    }
   ],
   "source": [
    "# have a quick view of the data\n",
    "x_v0_train.describe()\n",
    "y_train.groupby('label').size()"
   ]
  },
  {
   "cell_type": "code",
   "execution_count": 33,
   "metadata": {},
   "outputs": [
    {
     "name": "stdout",
     "output_type": "stream",
     "text": [
      "Requirement already satisfied: imbalanced-learn in c:\\users\\fgr07\\appdata\\local\\continuum\\anaconda3\\lib\\site-packages (0.3.1)\n",
      "Requirement already satisfied: scipy in c:\\users\\fgr07\\appdata\\local\\continuum\\anaconda3\\lib\\site-packages (from imbalanced-learn) (1.1.0)\n",
      "Requirement already satisfied: numpy in c:\\users\\fgr07\\appdata\\local\\continuum\\anaconda3\\lib\\site-packages (from imbalanced-learn) (1.14.3)\n",
      "Requirement already satisfied: scikit-learn in c:\\users\\fgr07\\appdata\\local\\continuum\\anaconda3\\lib\\site-packages (from imbalanced-learn) (0.19.1)\n"
     ]
    },
    {
     "name": "stderr",
     "output_type": "stream",
     "text": [
      "You are using pip version 18.0, however version 18.1 is available.\n",
      "You should consider upgrading via the 'python -m pip install --upgrade pip' command.\n"
     ]
    },
    {
     "name": "stdout",
     "output_type": "stream",
     "text": [
      "Collecting metrics\n",
      "  Downloading https://files.pythonhosted.org/packages/01/ae/3ab18f2f3449f2e7931112c991ade9684eeddf96cea03ea7f662c01f0658/metrics-0.3.3.tar.gz\n",
      "Requirement already satisfied: Pygments==2.2.0 in c:\\users\\fgr07\\appdata\\local\\continuum\\anaconda3\\lib\\site-packages (from metrics) (2.2.0)\n",
      "Collecting pathspec==0.5.5 (from metrics)\n",
      "  Downloading https://files.pythonhosted.org/packages/9f/fb/5a901a3b1eeebf83af6da74ecca69d7daf5189e450f0f4cccf9c19132651/pathspec-0.5.5.tar.gz\n",
      "Requirement already satisfied: pathlib2>=2.3.0 in c:\\users\\fgr07\\appdata\\local\\continuum\\anaconda3\\lib\\site-packages (from metrics) (2.3.2)\n",
      "Requirement already satisfied: six in c:\\users\\fgr07\\appdata\\local\\continuum\\anaconda3\\lib\\site-packages (from pathlib2>=2.3.0->metrics) (1.11.0)\n",
      "Building wheels for collected packages: metrics, pathspec\n",
      "  Running setup.py bdist_wheel for metrics: started\n",
      "  Running setup.py bdist_wheel for metrics: finished with status 'done'\n",
      "  Stored in directory: C:\\Users\\fgr07\\AppData\\Local\\pip\\Cache\\wheels\\38\\e8\\55\\c4c648451a33a60920318eba4c5735088dbf78dc20d4277db0\n",
      "  Running setup.py bdist_wheel for pathspec: started\n",
      "  Running setup.py bdist_wheel for pathspec: finished with status 'done'\n",
      "  Stored in directory: C:\\Users\\fgr07\\AppData\\Local\\pip\\Cache\\wheels\\d1\\2e\\6b\\c67842adf3b13ea33ca3fe6a2a963622821ad647db724688e2\n",
      "Successfully built metrics pathspec\n",
      "Installing collected packages: pathspec, metrics\n",
      "Successfully installed metrics-0.3.3 pathspec-0.5.5\n"
     ]
    },
    {
     "name": "stderr",
     "output_type": "stream",
     "text": [
      "You are using pip version 18.0, however version 18.1 is available.\n",
      "You should consider upgrading via the 'python -m pip install --upgrade pip' command.\n"
     ]
    }
   ],
   "source": [
    "#importing necessary packages\n",
    "!pip install metrics\n",
    "!pip install imbalanced-learn"
   ]
  },
  {
   "cell_type": "code",
   "execution_count": 37,
   "metadata": {},
   "outputs": [
    {
     "name": "stderr",
     "output_type": "stream",
     "text": [
      "C:\\Users\\fgr07\\AppData\\Local\\Continuum\\anaconda3\\lib\\site-packages\\sklearn\\utils\\validation.py:578: DataConversionWarning: A column-vector y was passed when a 1d array was expected. Please change the shape of y to (n_samples, ), for example using ravel().\n",
      "  y = column_or_1d(y, warn=True)\n",
      "C:\\Users\\fgr07\\AppData\\Local\\Continuum\\anaconda3\\lib\\site-packages\\sklearn\\utils\\validation.py:578: DataConversionWarning: A column-vector y was passed when a 1d array was expected. Please change the shape of y to (n_samples, ), for example using ravel().\n",
      "  y = column_or_1d(y, warn=True)\n"
     ]
    },
    {
     "data": {
      "text/plain": [
       "SVC(C=1.0, cache_size=200, class_weight='balanced', coef0=0.0,\n",
       "  decision_function_shape='ovr', degree=3, gamma='auto', kernel='rbf',\n",
       "  max_iter=-1, probability=False, random_state=None, shrinking=True,\n",
       "  tol=0.001, verbose=False)"
      ]
     },
     "execution_count": 37,
     "metadata": {},
     "output_type": "execute_result"
    }
   ],
   "source": [
    "from imblearn import under_sampling, over_sampling\n",
    "from imblearn.over_sampling import SMOTE # 过抽样处理库SMOTE\n",
    "from imblearn.under_sampling import RandomUnderSampler # 欠抽样处理库RandomUnderSampler\n",
    "from sklearn.svm import SVC #SVM中的分类算法SVC\n",
    "from imblearn.ensemble import EasyEnsemble # 简单集成方法EasyEnsemble\n",
    "\n",
    "model_smote = SMOTE() # 建立SMOTE模型对象\n",
    "x_over_train, y_over_train = model_smote.fit_sample(x_v0_train,y_train) # 输入数据并作过抽样处理\n",
    "\n",
    "model_RandomUnderSampler = RandomUnderSampler() # 建立RandomUnderSampler模型对象\n",
    "x_under_train, y_under_train =model_RandomUnderSampler.fit_sample(x_v0_train,y_train) # 输入数据并作欠抽样处理\n",
    "\n",
    "# 使用SVM的权重调节处理不均衡样本\n",
    "model_svm = SVC(class_weight='balanced') # 创建SVC模型对象并指定类别权重\n",
    "model_svm.fit(x_v0_train, y_train) # 输入x和y并训练模型"
   ]
  },
  {
   "cell_type": "code",
   "execution_count": 45,
   "metadata": {},
   "outputs": [
    {
     "name": "stdout",
     "output_type": "stream",
     "text": [
      "The over sampling size is  label\n",
      "0.0    3600\n",
      "1.0    3600\n",
      "2.0    3600\n",
      "dtype: int64 \n",
      " The under sampling size is  label\n",
      "0.0    600\n",
      "1.0    600\n",
      "2.0    600\n",
      "dtype: int64\n"
     ]
    }
   ],
   "source": [
    "# have a view of the size of resampled data\n",
    "y_over_train =pd.DataFrame(y_over_train,columns=['label'])\n",
    "y_over_size=y_over_train.groupby('label').size()\n",
    "\n",
    "y_under_train =pd.DataFrame(y_under_train,columns=['label'])\n",
    "y_under_size=y_under_train.groupby('label').size()\n",
    "\n",
    "print(\"The over sampling size is \",y_over_size,\"\\n The under sampling size is \",y_under_size)"
   ]
  },
  {
   "cell_type": "code",
   "execution_count": 46,
   "metadata": {},
   "outputs": [
    {
     "name": "stdout",
     "output_type": "stream",
     "text": [
      "Spleating the dataset...\n"
     ]
    }
   ],
   "source": [
    "from sklearn.model_selection import train_test_split\n",
    "\n",
    "print(\"Spleating the dataset...\")\n",
    "X_v0_train, X_v0_val, Y_v0_train, Y_v0_val = train_test_split(x_v0_train,y_train,test_size=0.2)\n",
    "X_over_train, X_over_val, Y_over_train, Y_over_val = train_test_split(x_over_train,y_over_train,test_size=0.2)\n",
    "X_under_train, X_under_val, Y_under_train, Y_under_val = train_test_split(x_under_train,y_under_train,test_size=0.2)"
   ]
  },
  {
   "cell_type": "code",
   "execution_count": null,
   "metadata": {},
   "outputs": [
    {
     "name": "stdout",
     "output_type": "stream",
     "text": [
      "The Datasets are:  Under Sampling Datasets\n"
     ]
    },
    {
     "name": "stderr",
     "output_type": "stream",
     "text": [
      "C:\\Users\\fgr07\\AppData\\Local\\Continuum\\anaconda3\\lib\\site-packages\\ipykernel_launcher.py:22: DataConversionWarning: A column-vector y was passed when a 1d array was expected. Please change the shape of y to (n_samples, ), for example using ravel().\n"
     ]
    },
    {
     "name": "stdout",
     "output_type": "stream",
     "text": [
      "============================== \n",
      " KNeighborsClassifier\n",
      "****Results****\n",
      "Accuracy: 61.1111%\n",
      "Log Loss: 6.964452958236254\n",
      "==============================\n"
     ]
    },
    {
     "name": "stderr",
     "output_type": "stream",
     "text": [
      "C:\\Users\\fgr07\\AppData\\Local\\Continuum\\anaconda3\\lib\\site-packages\\sklearn\\utils\\validation.py:578: DataConversionWarning: A column-vector y was passed when a 1d array was expected. Please change the shape of y to (n_samples, ), for example using ravel().\n",
      "  y = column_or_1d(y, warn=True)\n"
     ]
    },
    {
     "name": "stdout",
     "output_type": "stream",
     "text": [
      "============================== \n",
      " SVC\n",
      "****Results****\n",
      "Accuracy: 53.6111%\n",
      "Log Loss: 0.8528225091641564\n",
      "==============================\n",
      "============================== \n",
      " DecisionTreeClassifier\n",
      "****Results****\n",
      "Accuracy: 50.5556%\n",
      "Log Loss: 17.077506106372503\n",
      "==============================\n"
     ]
    },
    {
     "name": "stderr",
     "output_type": "stream",
     "text": [
      "C:\\Users\\fgr07\\AppData\\Local\\Continuum\\anaconda3\\lib\\site-packages\\ipykernel_launcher.py:22: DataConversionWarning: A column-vector y was passed when a 1d array was expected. Please change the shape of y to (n_samples,), for example using ravel().\n"
     ]
    },
    {
     "name": "stdout",
     "output_type": "stream",
     "text": [
      "============================== \n",
      " RandomForestClassifier\n",
      "****Results****\n",
      "Accuracy: 57.7778%\n",
      "Log Loss: 1.4092156153671804\n",
      "==============================\n"
     ]
    },
    {
     "name": "stderr",
     "output_type": "stream",
     "text": [
      "C:\\Users\\fgr07\\AppData\\Local\\Continuum\\anaconda3\\lib\\site-packages\\sklearn\\utils\\validation.py:578: DataConversionWarning: A column-vector y was passed when a 1d array was expected. Please change the shape of y to (n_samples, ), for example using ravel().\n",
      "  y = column_or_1d(y, warn=True)\n"
     ]
    },
    {
     "name": "stdout",
     "output_type": "stream",
     "text": [
      "============================== \n",
      " AdaBoostClassifier\n",
      "****Results****\n",
      "Accuracy: 61.3889%\n",
      "Log Loss: 1.0620579883729615\n",
      "==============================\n"
     ]
    },
    {
     "name": "stderr",
     "output_type": "stream",
     "text": [
      "C:\\Users\\fgr07\\AppData\\Local\\Continuum\\anaconda3\\lib\\site-packages\\sklearn\\utils\\validation.py:578: DataConversionWarning: A column-vector y was passed when a 1d array was expected. Please change the shape of y to (n_samples, ), for example using ravel().\n",
      "  y = column_or_1d(y, warn=True)\n"
     ]
    },
    {
     "name": "stdout",
     "output_type": "stream",
     "text": [
      "============================== \n",
      " GradientBoostingClassifier\n",
      "****Results****\n",
      "Accuracy: 65.5556%\n",
      "Log Loss: 0.7473577923553658\n",
      "==============================\n",
      "============================== \n",
      " GaussianNB\n",
      "****Results****\n",
      "Accuracy: 58.6111%\n",
      "Log Loss: 12.959001805839732\n",
      "==============================\n",
      "============================== \n",
      " LinearDiscriminantAnalysis\n",
      "****Results****\n",
      "Accuracy: 51.9444%\n",
      "Log Loss: 4.814779155606913\n",
      "==============================\n"
     ]
    },
    {
     "name": "stderr",
     "output_type": "stream",
     "text": [
      "C:\\Users\\fgr07\\AppData\\Local\\Continuum\\anaconda3\\lib\\site-packages\\sklearn\\discriminant_analysis.py:682: UserWarning: Variables are collinear\n",
      "  warnings.warn(\"Variables are collinear\")\n"
     ]
    },
    {
     "name": "stdout",
     "output_type": "stream",
     "text": [
      "============================== \n",
      " QuadraticDiscriminantAnalysis\n",
      "****Results****\n",
      "Accuracy: 33.3333%\n",
      "Log Loss: 23.025850929940457\n",
      "==============================\n",
      "The Datasets are:  Original Datasets\n"
     ]
    },
    {
     "name": "stderr",
     "output_type": "stream",
     "text": [
      "C:\\Users\\fgr07\\AppData\\Local\\Continuum\\anaconda3\\lib\\site-packages\\ipykernel_launcher.py:22: DataConversionWarning: A column-vector y was passed when a 1d array was expected. Please change the shape of y to (n_samples, ), for example using ravel().\n"
     ]
    },
    {
     "name": "stdout",
     "output_type": "stream",
     "text": [
      "============================== \n",
      " KNeighborsClassifier\n",
      "****Results****\n",
      "Accuracy: 79.3750%\n",
      "Log Loss: 3.6072449036338647\n",
      "==============================\n"
     ]
    }
   ],
   "source": [
    "from sklearn.metrics import accuracy_score, log_loss \n",
    "from sklearn.neighbors import KNeighborsClassifier \n",
    "from sklearn.svm import SVC\n",
    "from sklearn.tree import DecisionTreeClassifier \n",
    "from sklearn.ensemble import RandomForestClassifier, AdaBoostClassifier, GradientBoostingClassifier \n",
    "from sklearn.naive_bayes import GaussianNB \n",
    "from sklearn.discriminant_analysis import LinearDiscriminantAnalysis \n",
    "from sklearn.discriminant_analysis import QuadraticDiscriminantAnalysis \n",
    "#from sklearn.metrics import balanced_accuracy_score\n",
    "\n",
    "classifiers = [ KNeighborsClassifier(3), SVC(kernel=\"rbf\", C=0.025, probability=True), \n",
    "                DecisionTreeClassifier(), RandomForestClassifier(),\n",
    "               AdaBoostClassifier(), GradientBoostingClassifier(), GaussianNB(), \n",
    "               LinearDiscriminantAnalysis(), QuadraticDiscriminantAnalysis()]\n",
    "def ModelsOnDatasets(clfs, datasets, x_train,x_test,y_train,y_test):\n",
    "    print(\"The Datasets are: \",datasets)\n",
    "    # Logging for Visual Comparison \n",
    "    #log_cols=[\"Classifier\", \"Accuracy\", \"Log Loss\",\"BMAC\"] \n",
    "    log_cols=[\"Classifier\", \"Accuracy\", \"Log Loss\"]\n",
    "    log = pd.DataFrame(columns=log_cols) \n",
    "    for clf in clfs: \n",
    "        clf.fit(x_train, y_train) \n",
    "        name = clf.__class__.__name__ \n",
    "        print(\"=\"*30,'\\n', name)\n",
    "    \n",
    "        train_predictions = clf.predict(x_test) \n",
    "        acc = accuracy_score(y_test, train_predictions) \n",
    "        \n",
    "        #BMAC = balanced_accuracy_score(y_test, train_predictions)\n",
    "    \n",
    "        train_predictions = clf.predict_proba(x_test) \n",
    "        ll = log_loss(y_test, train_predictions) \n",
    "        \n",
    "        # write the item in the log\n",
    "        #log_entry = pd.DataFrame([[name, acc*100, ll, BMAC]], columns=log_cols) \n",
    "        log_entry = pd.DataFrame([[name, acc*100, ll]], columns=log_cols) \n",
    "        log = log.append(log_entry) \n",
    "        \n",
    "    \n",
    "        print('****Results****') \n",
    "        print(\"Accuracy: {:.4%}\".format(acc)) \n",
    "        print(\"Log Loss: {}\".format(ll)) \n",
    "        print(\"=\"*30)\n",
    "    return log\n",
    "    \n",
    "\n",
    "log_under=ModelsOnDatasets(classifiers,\"Under Sampling Datasets\",X_under_train, X_under_val, Y_under_train, Y_under_val)\n",
    "log_v0=ModelsOnDatasets(classifiers,\"Original Datasets\",X_v0_train, X_v0_val, Y_v0_train, Y_v0_val)\n",
    "log_over=ModelsOnDatasets(classifiers,\"Over Sampling Datasets\",X_over_train, X_over_val, Y_over_train, Y_over_val)"
   ]
  },
  {
   "cell_type": "code",
   "execution_count": null,
   "metadata": {},
   "outputs": [],
   "source": [
    "import seaborn as sns\n",
    "import matplotlib.pyplot as plt\n",
    "\n",
    "def plotLog(log):\n",
    "    sns.set_color_codes(\"muted\") \n",
    "    sns.barplot(x='Accuracy', y='Classifier', data=log, color=\"b\") \n",
    "\n",
    "    plt.xlabel('Accuracy %') \n",
    "    plt.title('Classifier Accuracy') \n",
    "    plt.show() \n",
    "\n",
    "    sns.set_color_codes(\"muted\") \n",
    "    sns.barplot(x='Log Loss', y='Classifier', data=log, color=\"g\") \n",
    "\n",
    "    plt.xlabel('Log Loss') \n",
    "    plt.title('Classifier Log Loss') \n",
    "    plt.show()\n",
    "\n",
    "plotLog(log_v0)\n",
    "plotLog(log_over)\n",
    "plotLog(log_under)"
   ]
  }
 ],
 "metadata": {
  "kernelspec": {
   "display_name": "Python 3",
   "language": "python",
   "name": "python3"
  },
  "language_info": {
   "codemirror_mode": {
    "name": "ipython",
    "version": 3
   },
   "file_extension": ".py",
   "mimetype": "text/x-python",
   "name": "python",
   "nbconvert_exporter": "python",
   "pygments_lexer": "ipython3",
   "version": "3.6.5"
  },
  "latex_envs": {
   "LaTeX_envs_menu_present": true,
   "autoclose": true,
   "autocomplete": true,
   "bibliofile": "biblio.bib",
   "cite_by": "apalike",
   "current_citInitial": 1,
   "eqLabelWithNumbers": true,
   "eqNumInitial": 1,
   "hotkeys": {
    "equation": "Ctrl-E",
    "itemize": "Ctrl-I"
   },
   "labels_anchors": false,
   "latex_user_defs": false,
   "report_style_numbering": false,
   "user_envs_cfg": false
  }
 },
 "nbformat": 4,
 "nbformat_minor": 2
}
