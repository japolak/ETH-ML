{
 "cells": [
  {
   "cell_type": "code",
   "execution_count": 21,
   "metadata": {},
   "outputs": [
    {
     "name": "stdout",
     "output_type": "stream",
     "text": [
      "['0.70/1.csv', '0.70/2.csv', '0.70/3.csv']\n"
     ]
    }
   ],
   "source": [
    "# inputs = ['submission0.7162.csv', \n",
    "#           'submission0.7182.csv', \n",
    "#           'submission0.7214.csv',\n",
    "#           'submission0.7297.csv',\n",
    "#           'submission0.7403.csv']\n",
    "# inputs = ['avg0.688/1.csv', 'avg0.688/2.csv', 'avg0.688/3.csv']\n",
    "# inputs = [\"0.69/1.csv\", \"0.69/2.csv\", \"0.69/3.csv\"]\n",
    "inputs = []\n",
    "for i in range(1, 4):\n",
    "    inputs.append(\"0.70/{}.csv\".format(i))\n",
    "print(inputs)\n",
    "scores = [0.0]*776\n",
    "\n",
    "for f in inputs:\n",
    "    f = open(f).readlines()[1:]\n",
    "    for l in f:\n",
    "        sp = l.split(',')\n",
    "        idx, s = int(sp[0]), float(sp[1])\n",
    "        scores[idx] += s\n",
    "out = open(\"0.70/combined.csv\", \"w\")\n",
    "out.write(\"id,y\\n\")\n",
    "for i in range(776):\n",
    "    out.write(\"{},{}\\n\".format(i, (scores[i]/len(inputs))))\n",
    "out.close()"
   ]
  },
  {
   "cell_type": "code",
   "execution_count": null,
   "metadata": {},
   "outputs": [],
   "source": []
  }
 ],
 "metadata": {
  "kernelspec": {
   "display_name": "Python 3",
   "language": "python",
   "name": "python3"
  },
  "language_info": {
   "codemirror_mode": {
    "name": "ipython",
    "version": 3
   },
   "file_extension": ".py",
   "mimetype": "text/x-python",
   "name": "python",
   "nbconvert_exporter": "python",
   "pygments_lexer": "ipython3",
   "version": "3.6.4"
  }
 },
 "nbformat": 4,
 "nbformat_minor": 2
}
