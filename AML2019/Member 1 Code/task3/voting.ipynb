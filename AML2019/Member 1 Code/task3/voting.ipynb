{
 "cells": [
  {
   "cell_type": "code",
   "execution_count": 16,
   "metadata": {},
   "outputs": [],
   "source": [
    "import pandas as pd\n",
    "cand = [\"1.csv\", \"2.csv\", \"3.csv\", \"4.csv\", \"5.csv\"]\n",
    "result = [None for i in range(len(cand))]\n",
    "for i,f in enumerate(cand):\n",
    "    result[i] = pd.read_csv('data/y_train.csv', header=0, index_col = 0)['y'].values\n"
   ]
  },
  {
   "cell_type": "code",
   "execution_count": 17,
   "metadata": {},
   "outputs": [],
   "source": [
    "import numpy as np\n",
    "def voting(lst):\n",
    "    cnt = [0,0,0,0]\n",
    "    for i in lst:\n",
    "        cnt[i] += 1\n",
    "    return np.argmax(cnt)\n",
    "    "
   ]
  },
  {
   "cell_type": "code",
   "execution_count": 18,
   "metadata": {},
   "outputs": [],
   "source": [
    "with open(\"voted.csv\", \"w\") as f:\n",
    "    f.write(\"id,y\\n\")\n",
    "    for i in range(len(result[0])):\n",
    "        f.write(\"%d,%d\\n\" % (i, voting([result[0][i], result[1][i], result[2][i]])))"
   ]
  },
  {
   "cell_type": "code",
   "execution_count": 14,
   "metadata": {},
   "outputs": [
    {
     "data": {
      "text/plain": [
       "2"
      ]
     },
     "execution_count": 14,
     "metadata": {},
     "output_type": "execute_result"
    }
   ],
   "source": [
    "voting([3,3,2,2,2])"
   ]
  },
  {
   "cell_type": "code",
   "execution_count": null,
   "metadata": {},
   "outputs": [],
   "source": []
  }
 ],
 "metadata": {
  "kernelspec": {
   "display_name": "Python 3",
   "language": "python",
   "name": "python3"
  },
  "language_info": {
   "codemirror_mode": {
    "name": "ipython",
    "version": 3
   },
   "file_extension": ".py",
   "mimetype": "text/x-python",
   "name": "python",
   "nbconvert_exporter": "python",
   "pygments_lexer": "ipython3",
   "version": "3.6.5"
  }
 },
 "nbformat": 4,
 "nbformat_minor": 2
}
