{
 "cells": [
  {
   "cell_type": "code",
   "execution_count": 5,
   "metadata": {},
   "outputs": [],
   "source": [
    "import xgboost as xgb\n",
    "import pandas as pd\n",
    "import numpy as np\n",
    "import sklearn\n",
    "from sklearn import preprocessing\n",
    "from sklearn import svm\n",
    "from sklearn.model_selection import train_test_split\n",
    "from sklearn.model_selection import cross_val_score\n",
    "from sklearn.svm import LinearSVC\n",
    "from sklearn.datasets import make_classification\n",
    "from sklearn.gaussian_process import GaussianProcessClassifier\n",
    "from sklearn.gaussian_process.kernels import RBF"
   ]
  },
  {
   "cell_type": "code",
   "execution_count": 36,
   "metadata": {},
   "outputs": [
    {
     "name": "stdout",
     "output_type": "stream",
     "text": [
      "preparing data...\n"
     ]
    }
   ],
   "source": [
    "print('preparing data...')\n",
    "df_y_train = pd.read_csv('data/y_train.csv', header=0, index_col = 0)\n",
    "y = df_y_train['y'].values"
   ]
  },
  {
   "cell_type": "code",
   "execution_count": 22,
   "metadata": {},
   "outputs": [
    {
     "name": "stdout",
     "output_type": "stream",
     "text": [
      "(5117, 208)\n",
      "(3411, 208)\n"
     ]
    }
   ],
   "source": [
    "x_train_bio = pd.read_csv('data/bioFeatures.csv', header=None, index_col=0)\n",
    "print(x_train_bio.shape)\n",
    "x_test_bio = pd.read_csv('data/bioFeatures_test.csv', header=None, index_col=0)\n",
    "print(x_test_bio.shape)"
   ]
  },
  {
   "cell_type": "code",
   "execution_count": 23,
   "metadata": {},
   "outputs": [
    {
     "name": "stdout",
     "output_type": "stream",
     "text": [
      "(5117, 100)\n",
      "(3411, 100)\n"
     ]
    }
   ],
   "source": [
    "x_train_hrv = pd.read_csv('data/hrvFeatures.csv', header=None, index_col=0)\n",
    "print(x_train_hrv.shape)\n",
    "x_test_hrv = pd.read_csv('data/hrvFeatures_test.csv', header=None, index_col=0)\n",
    "print(x_test_hrv.shape)"
   ]
  },
  {
   "cell_type": "code",
   "execution_count": 20,
   "metadata": {},
   "outputs": [
    {
     "name": "stdout",
     "output_type": "stream",
     "text": [
      "(5117, 8)\n",
      "(3411, 8)\n"
     ]
    }
   ],
   "source": [
    "x_train_rpeak = pd.read_csv('data/rpeakfeature.csv', header=None, skiprows=1, index_col=0)\n",
    "print(x_train_rpeak.shape)\n",
    "x_test_rpeak = pd.read_csv('data/rpeakfeature_test.csv', header=None, skiprows=1, index_col=0)\n",
    "print(x_test_rpeak.shape)"
   ]
  },
  {
   "cell_type": "code",
   "execution_count": 21,
   "metadata": {},
   "outputs": [
    {
     "name": "stdout",
     "output_type": "stream",
     "text": [
      "(5117, 20)\n",
      "(3411, 20)\n"
     ]
    }
   ],
   "source": [
    "x_train_other = pd.read_csv('data/otherfeature_complete.csv', header=None, skiprows=1, index_col=0)\n",
    "print(x_train_other.shape)\n",
    "x_test_other = pd.read_csv('data/otherfeature_complete_test.csv', header=None, skiprows=1, index_col=0)\n",
    "print(x_test_other.shape)"
   ]
  },
  {
   "cell_type": "code",
   "execution_count": 38,
   "metadata": {},
   "outputs": [
    {
     "name": "stdout",
     "output_type": "stream",
     "text": [
      "(5117, 336)\n",
      "(3411, 336)\n"
     ]
    }
   ],
   "source": [
    "merged_train = pd.concat([x_train_bio, x_train_hrv, x_train_rpeak, x_train_other], axis=1)\n",
    "print(merged_train.shape)\n",
    "merged_test = pd.concat([x_test_bio, x_test_hrv, x_test_rpeak, x_test_other], axis=1)\n",
    "print(merged_test.shape)\n",
    "\n",
    "X = merged_train.values\n",
    "X_test = merged_test.values"
   ]
  },
  {
   "cell_type": "markdown",
   "metadata": {},
   "source": [
    "# XGBoost"
   ]
  },
  {
   "cell_type": "code",
   "execution_count": 56,
   "metadata": {},
   "outputs": [
    {
     "name": "stdout",
     "output_type": "stream",
     "text": [
      "[0]\ttrain-merror:0.203016\teval-merror:0.220052\ttrain-f1:0.796984\teval-f1:0.779948\n",
      "[1]\ttrain-merror:0.188495\teval-merror:0.217448\ttrain-f1:0.811505\teval-f1:0.782552\n",
      "[2]\ttrain-merror:0.177325\teval-merror:0.21224\ttrain-f1:0.822675\teval-f1:0.78776\n",
      "[3]\ttrain-merror:0.170623\teval-merror:0.20638\ttrain-f1:0.829377\teval-f1:0.79362\n",
      "[4]\ttrain-merror:0.163362\teval-merror:0.201172\ttrain-f1:0.836638\teval-f1:0.798828\n",
      "[5]\ttrain-merror:0.162245\teval-merror:0.201823\ttrain-f1:0.837755\teval-f1:0.798177\n",
      "[6]\ttrain-merror:0.152471\teval-merror:0.203776\ttrain-f1:0.847529\teval-f1:0.796224\n",
      "[7]\ttrain-merror:0.143815\teval-merror:0.195964\ttrain-f1:0.856185\teval-f1:0.804036\n",
      "[8]\ttrain-merror:0.140743\teval-merror:0.19987\ttrain-f1:0.859257\teval-f1:0.80013\n",
      "[9]\ttrain-merror:0.136833\teval-merror:0.197917\ttrain-f1:0.863167\teval-f1:0.802083\n",
      "[10]\ttrain-merror:0.13432\teval-merror:0.196615\ttrain-f1:0.86568\teval-f1:0.803385\n",
      "[11]\ttrain-merror:0.131807\teval-merror:0.195312\ttrain-f1:0.868193\teval-f1:0.804688\n",
      "[12]\ttrain-merror:0.127618\teval-merror:0.193359\ttrain-f1:0.872382\teval-f1:0.806641\n",
      "[13]\ttrain-merror:0.125942\teval-merror:0.19401\ttrain-f1:0.874058\teval-f1:0.80599\n",
      "[14]\ttrain-merror:0.121754\teval-merror:0.197266\ttrain-f1:0.878246\teval-f1:0.802734\n",
      "[15]\ttrain-merror:0.117565\teval-merror:0.195964\ttrain-f1:0.882435\teval-f1:0.804036\n",
      "[16]\ttrain-merror:0.114772\teval-merror:0.191406\ttrain-f1:0.885228\teval-f1:0.808594\n",
      "[17]\ttrain-merror:0.110863\teval-merror:0.190755\ttrain-f1:0.889137\teval-f1:0.809245\n",
      "[18]\ttrain-merror:0.109187\teval-merror:0.190104\ttrain-f1:0.890813\teval-f1:0.809896\n",
      "[19]\ttrain-merror:0.106116\teval-merror:0.188802\ttrain-f1:0.893884\teval-f1:0.811198\n",
      "[20]\ttrain-merror:0.101927\teval-merror:0.188802\ttrain-f1:0.898073\teval-f1:0.811198\n",
      "[21]\ttrain-merror:0.098017\teval-merror:0.189453\ttrain-f1:0.901983\teval-f1:0.810547\n",
      "[22]\ttrain-merror:0.096342\teval-merror:0.188802\ttrain-f1:0.903658\teval-f1:0.811198\n",
      "[23]\ttrain-merror:0.094108\teval-merror:0.1875\ttrain-f1:0.905892\teval-f1:0.8125\n",
      "[24]\ttrain-merror:0.091036\teval-merror:0.184245\ttrain-f1:0.908964\teval-f1:0.815755\n",
      "[25]\ttrain-merror:0.087685\teval-merror:0.184245\ttrain-f1:0.912315\teval-f1:0.815755\n",
      "[26]\ttrain-merror:0.087685\teval-merror:0.182943\ttrain-f1:0.912315\teval-f1:0.817057\n",
      "[27]\ttrain-merror:0.086009\teval-merror:0.182943\ttrain-f1:0.913991\teval-f1:0.817057\n",
      "[28]\ttrain-merror:0.082938\teval-merror:0.184245\ttrain-f1:0.917062\teval-f1:0.815755\n",
      "[29]\ttrain-merror:0.083217\teval-merror:0.182292\ttrain-f1:0.916783\teval-f1:0.817708\n",
      "[30]\ttrain-merror:0.079587\teval-merror:0.179036\ttrain-f1:0.920413\teval-f1:0.820964\n",
      "[31]\ttrain-merror:0.07819\teval-merror:0.18099\ttrain-f1:0.92181\teval-f1:0.81901\n",
      "[32]\ttrain-merror:0.079028\teval-merror:0.180339\ttrain-f1:0.920972\teval-f1:0.819661\n",
      "[33]\ttrain-merror:0.075119\teval-merror:0.179036\ttrain-f1:0.924881\teval-f1:0.820964\n",
      "[34]\ttrain-merror:0.074839\teval-merror:0.180339\ttrain-f1:0.925161\teval-f1:0.819661\n",
      "[35]\ttrain-merror:0.070371\teval-merror:0.179036\ttrain-f1:0.929629\teval-f1:0.820964\n",
      "[36]\ttrain-merror:0.071768\teval-merror:0.18099\ttrain-f1:0.928232\teval-f1:0.81901\n",
      "[37]\ttrain-merror:0.070092\teval-merror:0.179036\ttrain-f1:0.929908\teval-f1:0.820964\n",
      "[38]\ttrain-merror:0.068696\teval-merror:0.177083\ttrain-f1:0.931304\teval-f1:0.822917\n",
      "[39]\ttrain-merror:0.065903\teval-merror:0.177083\ttrain-f1:0.934097\teval-f1:0.822917\n",
      "[40]\ttrain-merror:0.063669\teval-merror:0.177083\ttrain-f1:0.936331\teval-f1:0.822917\n",
      "[41]\ttrain-merror:0.061994\teval-merror:0.179688\ttrain-f1:0.938006\teval-f1:0.820312\n",
      "[42]\ttrain-merror:0.059481\teval-merror:0.177083\ttrain-f1:0.940519\teval-f1:0.822917\n",
      "[43]\ttrain-merror:0.05613\teval-merror:0.175781\ttrain-f1:0.94387\teval-f1:0.824219\n",
      "[44]\ttrain-merror:0.05613\teval-merror:0.176432\ttrain-f1:0.94387\teval-f1:0.823568\n",
      "[45]\ttrain-merror:0.054175\teval-merror:0.17513\ttrain-f1:0.945825\teval-f1:0.82487\n",
      "[46]\ttrain-merror:0.051382\teval-merror:0.177734\ttrain-f1:0.948618\teval-f1:0.822266\n",
      "[47]\ttrain-merror:0.050545\teval-merror:0.177083\ttrain-f1:0.949455\teval-f1:0.822917\n",
      "[48]\ttrain-merror:0.050265\teval-merror:0.176432\ttrain-f1:0.949735\teval-f1:0.823568\n",
      "[49]\ttrain-merror:0.049148\teval-merror:0.177734\ttrain-f1:0.950852\teval-f1:0.822266\n",
      "[50]\ttrain-merror:0.049428\teval-merror:0.176432\ttrain-f1:0.950572\teval-f1:0.823568\n",
      "[51]\ttrain-merror:0.047473\teval-merror:0.174479\ttrain-f1:0.952527\teval-f1:0.825521\n",
      "[52]\ttrain-merror:0.046356\teval-merror:0.175781\ttrain-f1:0.953644\teval-f1:0.824219\n",
      "[53]\ttrain-merror:0.04468\teval-merror:0.173828\ttrain-f1:0.95532\teval-f1:0.826172\n",
      "[54]\ttrain-merror:0.044122\teval-merror:0.177083\ttrain-f1:0.955878\teval-f1:0.822917\n",
      "[55]\ttrain-merror:0.043284\teval-merror:0.176432\ttrain-f1:0.956716\teval-f1:0.823568\n",
      "[56]\ttrain-merror:0.041329\teval-merror:0.176432\ttrain-f1:0.958671\teval-f1:0.823568\n",
      "[57]\ttrain-merror:0.037699\teval-merror:0.179036\ttrain-f1:0.962301\teval-f1:0.820964\n",
      "[58]\ttrain-merror:0.03742\teval-merror:0.177734\ttrain-f1:0.96258\teval-f1:0.822266\n",
      "[59]\ttrain-merror:0.039374\teval-merror:0.174479\ttrain-f1:0.960626\teval-f1:0.825521\n",
      "Test error using softmax = 0.8255208333333334\n"
     ]
    }
   ],
   "source": [
    "import xgboost as xgb\n",
    "from sklearn.metrics import f1_score\n",
    "from sklearn.model_selection import train_test_split\n",
    "train_X, eval_X, train_Y, eval_Y = train_test_split(X, y, test_size=0.3, random_state=42)\n",
    "xg_train = xgb.DMatrix(train_X, label=train_Y)\n",
    "xg_eval = xgb.DMatrix(eval_X, label=eval_Y)\n",
    "\n",
    "# setup parameters for xgboost\n",
    "param = {}\n",
    "# use softmax multi-class classification\n",
    "param['objective'] = 'multi:softmax'\n",
    "# scale weight of positive examples\n",
    "param['eta'] = 0.2\n",
    "param['gamma'] = 1.0\n",
    "param['max_depth'] = 6\n",
    "param['silent'] = 1\n",
    "param['subsample'] = 0.8\n",
    "param['colsample_bytree'] = 0.9\n",
    "param['min_child_weight'] = 20\n",
    "param['num_class'] = 4\n",
    "\n",
    "\n",
    "watchlist = [(xg_train, 'train'), (xg_eval, 'eval')]\n",
    "num_round = 60\n",
    "bst = xgb.train(param, \n",
    "                xg_train, \n",
    "                num_round, \n",
    "                watchlist, \n",
    "                feval=lambda y,t: (\"f1\", f1_score(y, t.get_label(), average='micro')))\n",
    "\n",
    "# get prediction\n",
    "pred = bst.predict(xg_eval)\n",
    "# error_rate = np.sum(pred != test_Y) / test_Y.shape[0]\n",
    "F1 = f1_score(eval_Y, pred, average='micro')\n",
    "print('Test error using softmax = {}'.format(F1))"
   ]
  },
  {
   "cell_type": "code",
   "execution_count": 58,
   "metadata": {},
   "outputs": [],
   "source": [
    "xg_test = xgb.DMatrix(X_test)\n",
    "y_pred = bst.predict(xg_test,ntree_limit=54)\n",
    "f = open(\"submission.csv\", \"w\")\n",
    "f.write(\"id,y\\n\")\n",
    "for i,x in enumerate(y_pred):\n",
    "    f.write(\"{},{}\\n\".format(i,y_pred[i]))\n",
    "f.close()"
   ]
  },
  {
   "cell_type": "markdown",
   "metadata": {},
   "source": [
    "# SVM"
   ]
  },
  {
   "cell_type": "code",
   "execution_count": 69,
   "metadata": {},
   "outputs": [
    {
     "data": {
      "text/plain": [
       "array([ 0.26660156,  0.25097656,  0.28027344,  0.25806452,  0.26223092])"
      ]
     },
     "execution_count": 69,
     "metadata": {},
     "output_type": "execute_result"
    }
   ],
   "source": [
    "clf = svm.SVC(kernel='linear', class_weight='balanced', C=1.0, random_state=0, gamma=0.1)\n",
    "# clf.fit(X, y) \n",
    "cross_val_score(clf, X, y, scoring='f1_micro', cv=5)  "
   ]
  },
  {
   "cell_type": "code",
   "execution_count": 68,
   "metadata": {},
   "outputs": [
    {
     "data": {
      "text/plain": [
       "array([ 0.62109375,  0.62792969,  0.62792969,  0.61779081,  0.62133072])"
      ]
     },
     "execution_count": 68,
     "metadata": {},
     "output_type": "execute_result"
    }
   ],
   "source": [
    "from sklearn.svm import LinearSVC\n",
    "clf = LinearSVC(random_state=0, tol=1e-5)\n",
    "cross_val_score(clf, X, y, scoring='f1_micro', cv=5)  "
   ]
  },
  {
   "cell_type": "code",
   "execution_count": 65,
   "metadata": {},
   "outputs": [
    {
     "data": {
      "text/plain": [
       "SVC(C=1.0, cache_size=200, class_weight='balanced', coef0=0.0,\n",
       "  decision_function_shape='ovr', degree=3, gamma='auto_deprecated',\n",
       "  kernel='linear', max_iter=-1, probability=False, random_state=0,\n",
       "  shrinking=True, tol=0.001, verbose=False)"
      ]
     },
     "execution_count": 65,
     "metadata": {},
     "output_type": "execute_result"
    }
   ],
   "source": [
    "clf.fit(X, y) "
   ]
  },
  {
   "cell_type": "code",
   "execution_count": 66,
   "metadata": {},
   "outputs": [],
   "source": [
    "y_pred =clf.predict(X_test)"
   ]
  },
  {
   "cell_type": "code",
   "execution_count": 67,
   "metadata": {},
   "outputs": [],
   "source": [
    "f = open(\"submission.csv\", \"w\")\n",
    "f.write(\"id,y\\n\")\n",
    "for i,x in enumerate(y_pred):\n",
    "    f.write(\"{},{}\\n\".format(i,y_pred[i]))\n",
    "f.close()"
   ]
  },
  {
   "cell_type": "code",
   "execution_count": null,
   "metadata": {},
   "outputs": [],
   "source": []
  }
 ],
 "metadata": {
  "kernelspec": {
   "display_name": "Python 3",
   "language": "python",
   "name": "python3"
  },
  "language_info": {
   "codemirror_mode": {
    "name": "ipython",
    "version": 3
   },
   "file_extension": ".py",
   "mimetype": "text/x-python",
   "name": "python",
   "nbconvert_exporter": "python",
   "pygments_lexer": "ipython3",
   "version": "3.6.5"
  }
 },
 "nbformat": 4,
 "nbformat_minor": 2
}
